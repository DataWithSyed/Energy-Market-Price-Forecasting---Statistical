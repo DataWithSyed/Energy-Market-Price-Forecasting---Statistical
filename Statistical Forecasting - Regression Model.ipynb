{
 "cells": [
  {
   "cell_type": "code",
   "execution_count": 3,
   "id": "48e75115-2763-41af-aa2f-d2907d179501",
   "metadata": {},
   "outputs": [
    {
     "name": "stdout",
     "output_type": "stream",
     "text": [
      "Coefficient of determination (R-squared): 0.7158756137479542\n",
      "Intercept (b0): 5.633333333333329\n",
      "Slope (b1): [0.54]\n",
      "Predicted value for X=60: 38.03333333333333\n"
     ]
    }
   ],
   "source": [
    "import numpy as np\n",
    "from sklearn.linear_model import LinearRegression\n",
    "\n",
    "# 1. Prepare your data\n",
    "# X is the independent variable (features), must be a 2D array.\n",
    "# y is the dependent variable (target).\n",
    "\n",
    "X = np.array([5, 15, 25, 35, 45, 55]).reshape((-1, 1))\n",
    "y = np.array([5, 20, 14, 32, 22, 38])\n",
    "\n",
    "# 2. Create the model\n",
    "# This creates a linear regression model object.\n",
    "model = LinearRegression()\n",
    "\n",
    "# 3. Train the model\n",
    "# The .fit() method trains the model using the provided data.\n",
    "model.fit(X, y)\n",
    "\n",
    "# 4. Get results\n",
    "# You can view the intercept and coefficient (slope) of the fitted line.\n",
    "r_sq = model.score(X, y)\n",
    "print(f\"Coefficient of determination (R-squared): {r_sq}\")\n",
    "print(f\"Intercept (b0): {model.intercept_}\")\n",
    "print(f\"Slope (b1): {model.coef_}\")\n",
    "\n",
    "# 5. Make a prediction\n",
    "# Provide new data for the model to predict on.\n",
    "# It must also be a 2D array.\n",
    "X_new = np.array([60]).reshape((-1, 1))\n",
    "y_pred = model.predict(X_new)\n",
    "\n",
    "print(f\"Predicted value for X=60: {y_pred[0]}\")"
   ]
  }
 ],
 "metadata": {
  "kernelspec": {
   "display_name": "Python 3 (ipykernel)",
   "language": "python",
   "name": "python3"
  },
  "language_info": {
   "codemirror_mode": {
    "name": "ipython",
    "version": 3
   },
   "file_extension": ".py",
   "mimetype": "text/x-python",
   "name": "python",
   "nbconvert_exporter": "python",
   "pygments_lexer": "ipython3",
   "version": "3.12.10"
  }
 },
 "nbformat": 4,
 "nbformat_minor": 5
}
